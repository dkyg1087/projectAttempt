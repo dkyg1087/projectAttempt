{
 "cells": [
  {
   "cell_type": "code",
   "execution_count": 5,
   "metadata": {},
   "outputs": [
    {
     "name": "stdout",
     "output_type": "stream",
     "text": [
      "OK\n"
     ]
    }
   ],
   "source": [
    "import requests\r\n",
    "res = requests.get(\"http://127.0.0.1:5000/add-pass/123/12345678\")\r\n",
    "if res.ok:\r\n",
    "    print(\"OK\")\r\n"
   ]
  },
  {
   "cell_type": "code",
   "execution_count": 10,
   "metadata": {},
   "outputs": [
    {
     "name": "stdout",
     "output_type": "stream",
     "text": [
      "OK\n"
     ]
    }
   ],
   "source": [
    "import requests\r\n",
    "res = requests.get(\"http://127.0.0.1:5000/check-pass/123/12345678\")\r\n",
    "if res.ok:\r\n",
    "    print(\"OK\")\r\n"
   ]
  },
  {
   "cell_type": "code",
   "execution_count": 37,
   "metadata": {},
   "outputs": [
    {
     "name": "stdout",
     "output_type": "stream",
     "text": [
      "{\"isSuccess\":true,\"reason\":\"\"}\n",
      "\n",
      "ok\n"
     ]
    }
   ],
   "source": [
    "import requests\r\n",
    "res = requests.post(\"http://127.0.0.1:5000/accept-request\",\r\n",
    "json = {\"event_id\":\"8e9129a8-90f9-434c-8015-295c2737ba82\",\r\n",
    "        \"user_id\":\"01234\"\r\n",
    "        })\r\n",
    "if res.ok:\r\n",
    "    print(res.text)\r\n",
    "    print(\"ok\")\r\n",
    "else:\r\n",
    "    print(res.text)\r\n",
    "    print(\"not OK\")"
   ]
  },
  {
   "cell_type": "code",
   "execution_count": 54,
   "metadata": {},
   "outputs": [
    {
     "name": "stdout",
     "output_type": "stream",
     "text": [
      "{\"isSuccess\":true,\"reason\":\"\"}\n",
      "\n",
      "ok\n"
     ]
    }
   ],
   "source": [
    "import requests\r\n",
    "res = requests.post(\"http://127.0.0.1:5000/request\",\r\n",
    "json = {\"event_id\":\"327eac8a-999d-4ce2-b370-d4b19af58a79\",\r\n",
    "        \"user_id\":\"1111\",\r\n",
    "        \"actual_time\": \"2020-10-16 15:00\",\r\n",
    "        \"actual_start_point\": \"海洋大學\",\r\n",
    "        \"actual_end_point\": \"金瓜石\",\r\n",
    "        \"extra_needed\": \"我想要去九份老街\"\r\n",
    "        })\r\n",
    "if res.ok:\r\n",
    "    print(res.text)\r\n",
    "    print(\"ok\")\r\n",
    "else:\r\n",
    "    print(\"not OK\")"
   ]
  },
  {
   "cell_type": "code",
   "execution_count": null,
   "metadata": {},
   "outputs": [],
   "source": [
    "    "
   ]
  },
  {
   "cell_type": "code",
   "execution_count": 56,
   "metadata": {},
   "outputs": [
    {
     "name": "stdout",
     "output_type": "stream",
     "text": [
      "{\"isSuccess\":true,\"reason\":\"\"}\n",
      "\n",
      "ok\n"
     ]
    }
   ],
   "source": [
    "import requests\r\n",
    "res = requests.post(\"http://127.0.0.1:5000/reject-event\",\r\n",
    "json = {\"event_id\":\"db41e13d-7f58-4306-972b-8c626ebcac0c\",\r\n",
    "        \"user_id\":\"1111\",\r\n",
    "        \"reason\":\"你媽死了\"\r\n",
    "        })\r\n",
    "if res.ok:\r\n",
    "    print(res.text)\r\n",
    "    print(\"ok\")\r\n",
    "else:\r\n",
    "    print(\"not OK\")"
   ]
  },
  {
   "cell_type": "code",
   "execution_count": 8,
   "metadata": {},
   "outputs": [
    {
     "name": "stdout",
     "output_type": "stream",
     "text": [
      "400\n",
      "not OK\n"
     ]
    }
   ],
   "source": [
    "import requests\r\n",
    "res = requests.post(\"https://database87.herokuapp.com/delete-event\",\r\n",
    "json = {\"event_id\":\"37e7c1e7-b7dd-4047-91a3-5cd9dbebb621\",\r\n",
    "        \"operation\":\"delete\"\r\n",
    "        })\r\n",
    "if res.ok:\r\n",
    "    print(res.text)\r\n",
    "    print(\"ok\")\r\n",
    "else:\r\n",
    "    print(res.status_code)\r\n",
    "    print(\"not OK\")"
   ]
  },
  {
   "cell_type": "code",
   "execution_count": 5,
   "metadata": {},
   "outputs": [
    {
     "name": "stdout",
     "output_type": "stream",
     "text": [
      "OK\n"
     ]
    }
   ],
   "source": [
    "import requests\r\n",
    "res = requests.post('https://database87.herokuapp.com/alter-event',\r\n",
    "json = {\r\n",
    "    'event_id':\"37e7c1e7-b7dd-4047-91a3-5cd9dbebb621\",\r\n",
    "    \"event_name\":\"海大垃圾\",\r\n",
    "    \"passenger_id\":None,\r\n",
    "    \"acceptable_time_interval\":[\"2020-10-31 15:00\",\"2020-10-31 16:00\"],\r\n",
    "    \"acceptable_start_point\":[\"海洋大學祥豐校門\"],\r\n",
    "    \"acceptable_end_point\":[\"基隆火車站\"],\r\n",
    "    \"acceptable_sex\":2,\r\n",
    "    \"max_weight\":70,\r\n",
    "    \"price\":0,\r\n",
    "    \"is_self_helmet\":False,\r\n",
    "    \"repeat\":[True,True,False,False,True,False,False]\r\n",
    "    })\r\n",
    "if res.ok:\r\n",
    "    print(res.reason)\r\n",
    "else:\r\n",
    "    print(res.status_code)"
   ]
  },
  {
   "cell_type": "code",
   "execution_count": 1,
   "metadata": {},
   "outputs": [
    {
     "name": "stdout",
     "output_type": "stream",
     "text": [
      "success\n"
     ]
    }
   ],
   "source": [
    "import requests\r\n",
    "res = requests.post('https://database87.herokuapp.com/new-event', \r\n",
    "json={\r\n",
    "    \"event_id\":None,\r\n",
    "    \"event_name\":\"海大專車\",\r\n",
    "    \"status\":\"white\",\r\n",
    "    \"driver_id\":\"456\",\r\n",
    "    \"passenger_id\":None,\r\n",
    "    \"acceptable_time_interval\":[\"2020-10-10 12:00\",\"2020-10-10 13:00\"],\r\n",
    "    \"acceptable_start_point\":[\"祥豐校門\",\"濱海校門\"],\r\n",
    "    \"acceptable_end_point\":[\"丐幫滷味\",\"基隆火車站\",\"濱海校門\"],\r\n",
    "    \"acceptable_sex\":2,\r\n",
    "    \"max_weight\":90,\r\n",
    "    \"price\":0,\r\n",
    "    \"is_self_helmet\":True,\r\n",
    "    \"repeat\":[True,False,False,False,True,False,False],\r\n",
    "    \"request\":None,\r\n",
    "    \"user\":None\r\n",
    "    })\r\n",
    "if res.ok:\r\n",
    "    print(\"success\")\r\n",
    "else:\r\n",
    "    print('failed')\r\n",
    "    "
   ]
  }
 ],
 "metadata": {
  "kernelspec": {
   "display_name": "Python 3",
   "language": "python",
   "name": "python3"
  },
  "language_info": {
   "codemirror_mode": {
    "name": "ipython",
    "version": 3
   },
   "file_extension": ".py",
   "mimetype": "text/x-python",
   "name": "python",
   "nbconvert_exporter": "python",
   "pygments_lexer": "ipython3",
   "version": "3.7.9"
  },
  "orig_nbformat": 2
 },
 "nbformat": 4,
 "nbformat_minor": 2
}